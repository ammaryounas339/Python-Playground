{
 "cells": [
  {
   "cell_type": "code",
   "execution_count": 17,
   "metadata": {},
   "outputs": [
    {
     "name": "stdout",
     "output_type": "stream",
     "text": [
      "23\n",
      "29\n",
      "31\n",
      "37\n",
      "41\n",
      "43\n"
     ]
    }
   ],
   "source": [
    "def prime(num):\n",
    "    if num<2:\n",
    "        return False\n",
    "    n=int(num**0.5)\n",
    "    for i in range(2,n+1):\n",
    "        if num % i == 0:\n",
    "            return False\n",
    "    return True\n",
    "lower =  int(input(\"Enter lower number : \"))\n",
    "higher = int(input(\"Enter higher number : \"))\n",
    "for i in range(lower,higher+1):\n",
    "    if prime(i):\n",
    "        print(i)\n",
    "\n",
    "\n"
   ]
  },
  {
   "cell_type": "code",
   "execution_count": 44,
   "metadata": {},
   "outputs": [
    {
     "name": "stdout",
     "output_type": "stream",
     "text": [
      "Before sort : \n",
      "abdullah,jawad\n"
     ]
    },
    {
     "ename": "AttributeError",
     "evalue": "'list' object has no attribute 'strip'",
     "output_type": "error",
     "traceback": [
      "\u001b[1;31m---------------------------------------------------------------------------\u001b[0m",
      "\u001b[1;31mAttributeError\u001b[0m                            Traceback (most recent call last)",
      "Cell \u001b[1;32mIn[44], line 4\u001b[0m\n\u001b[0;32m      2\u001b[0m \u001b[39mprint\u001b[39m(\u001b[39m\"\u001b[39m\u001b[39mBefore sort : \u001b[39m\u001b[39m\"\u001b[39m)\n\u001b[0;32m      3\u001b[0m \u001b[39mprint\u001b[39m(string)\n\u001b[1;32m----> 4\u001b[0m stripped \u001b[39m=\u001b[39m [string\u001b[39m.\u001b[39;49msplit(\u001b[39m'\u001b[39;49m\u001b[39m,\u001b[39;49m\u001b[39m'\u001b[39;49m)\u001b[39m.\u001b[39;49mstrip()]\n\u001b[0;32m      5\u001b[0m stripped\u001b[39m.\u001b[39msort()\n\u001b[0;32m      6\u001b[0m sorted_string \u001b[39m=\u001b[39m \u001b[39m'\u001b[39m\u001b[39m,\u001b[39m\u001b[39m'\u001b[39m\u001b[39m.\u001b[39mjoin(stripped)\n",
      "\u001b[1;31mAttributeError\u001b[0m: 'list' object has no attribute 'strip'"
     ]
    }
   ],
   "source": [
    "string =  input(\"Enter comma seperated values : \")\n",
    "print(\"Before sort : \")\n",
    "print(string)\n",
    "l = string.split(',')\n",
    "stripped = [i.strip() for i in l]\n",
    "stripped.sort()\n",
    "sorted_string = ','.join(stripped)\n",
    "print(\"After sort : \")\n",
    "print(sorted_string)"
   ]
  },
  {
   "cell_type": "code",
   "execution_count": 23,
   "metadata": {},
   "outputs": [
    {
     "name": "stdout",
     "output_type": "stream",
     "text": [
      "45\n",
      "80\n"
     ]
    }
   ],
   "source": [
    "num_list = [0] * 5\n",
    "print(num_list)\n",
    "for i in range(5):\n",
    "    num_list[i]=int(input(\"ENter number : \"))\n",
    "for i in range(5):  \n",
    "    if(num_list[i]==150):\n",
    "        break\n",
    "    if num_list[i]%5 == 0:\n",
    "        print(num_list[i])\n"
   ]
  },
  {
   "cell_type": "code",
   "execution_count": 41,
   "metadata": {},
   "outputs": [
    {
     "name": "stdout",
     "output_type": "stream",
     "text": [
      "1.Addition\n",
      "2.Subtraction\n",
      "3.Multiplication\n",
      "4.Divison\n",
      "5.Factorial\n",
      "6.Power\n",
      "Factorial of 2 is :\n",
      "2\n",
      "Factorial of 4 is :\n",
      "24\n"
     ]
    }
   ],
   "source": [
    "def menu():\n",
    "    print(\"1.Addition\")\n",
    "    print(\"2.Subtraction\")\n",
    "    print(\"3.Multiplication\")\n",
    "    print(\"4.Divison\")\n",
    "    print(\"5.Factorial\")\n",
    "    print(\"6.Power\")\n",
    "    choice = int(input(\"ENter the choice : \"))\n",
    "    return choice\n",
    "def add(a,b):\n",
    "    return a+b\n",
    "def sub(a,b):\n",
    "    return a-b\n",
    "def mul(a,b):\n",
    "    return a*b\n",
    "def div(a,b):\n",
    "    return a/b\n",
    "def power(a,b):\n",
    "    return a**b\n",
    "def factorial(n):\n",
    "    fact = 1\n",
    "    if n<=1:\n",
    "        return 0\n",
    "    for i in range(1,n+1):\n",
    "        fact = fact * i\n",
    "    return fact\n",
    "if __name__=='__main__':\n",
    "    a = int(input(\"ENter first number :\"))\n",
    "    b = int(input(\"Enter second number : \"))\n",
    "    choice = menu()\n",
    "    if(choice == 1):\n",
    "        print(\"Result of addition is : \")\n",
    "        print((add(a,b)))\n",
    "    if(choice == 2):\n",
    "        print(\"Result of subtraction is : \")\n",
    "        print((sub(a,b)))\n",
    "    if(choice == 3):\n",
    "        print(\"Result of multiplication is : \")\n",
    "        print((mul(a,b)))\n",
    "    if(choice == 4):\n",
    "        print(\"Result of division is : \")\n",
    "        print((div(a,b)))\n",
    "    if(choice == 5):\n",
    "        print(f\"Factorial of {a} is :\")\n",
    "        print(factorial(a))\n",
    "        print(f\"Factorial of {b} is :\")\n",
    "        print(factorial(b))\n",
    "\n",
    "    if(choice == 6):\n",
    "        print(power(a,b))\n",
    "   \n",
    "\n",
    "    "
   ]
  },
  {
   "cell_type": "code",
   "execution_count": null,
   "metadata": {},
   "outputs": [],
   "source": []
  }
 ],
 "metadata": {
  "kernelspec": {
   "display_name": "Python 3",
   "language": "python",
   "name": "python3"
  },
  "language_info": {
   "codemirror_mode": {
    "name": "ipython",
    "version": 3
   },
   "file_extension": ".py",
   "mimetype": "text/x-python",
   "name": "python",
   "nbconvert_exporter": "python",
   "pygments_lexer": "ipython3",
   "version": "3.10.4"
  },
  "orig_nbformat": 4,
  "vscode": {
   "interpreter": {
    "hash": "26de051ba29f2982a8de78e945f0abaf191376122a1563185a90213a26c5da77"
   }
  }
 },
 "nbformat": 4,
 "nbformat_minor": 2
}
