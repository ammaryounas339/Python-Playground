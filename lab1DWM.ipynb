{
 "cells": [
  {
   "cell_type": "markdown",
   "metadata": {},
   "source": []
  },
  {
   "cell_type": "code",
   "execution_count": 3,
   "metadata": {},
   "outputs": [
    {
     "name": "stdout",
     "output_type": "stream",
     "text": [
      "ammar\n"
     ]
    }
   ],
   "source": [
    "print(\"ammar\")"
   ]
  },
  {
   "cell_type": "code",
   "execution_count": 1,
   "metadata": {},
   "outputs": [
    {
     "name": "stdout",
     "output_type": "stream",
     "text": [
      "Ammar\n"
     ]
    },
    {
     "data": {
      "text/plain": [
       "'Ammar'"
      ]
     },
     "execution_count": 1,
     "metadata": {},
     "output_type": "execute_result"
    }
   ],
   "source": [
    "name = \"Ammar\"\n",
    "print(name)\n",
    "name"
   ]
  },
  {
   "cell_type": "code",
   "execution_count": 2,
   "metadata": {},
   "outputs": [
    {
     "name": "stdout",
     "output_type": "stream",
     "text": [
      "AmmarAmmar\n"
     ]
    }
   ],
   "source": [
    "name = name + name \n",
    "print(name)\n"
   ]
  },
  {
   "cell_type": "code",
   "execution_count": 3,
   "metadata": {},
   "outputs": [
    {
     "data": {
      "text/plain": [
       "'AmmarAmmarAmmarAmmarAmmarAmmar'"
      ]
     },
     "execution_count": 3,
     "metadata": {},
     "output_type": "execute_result"
    }
   ],
   "source": [
    "name = name * 3\n",
    "name"
   ]
  },
  {
   "cell_type": "code",
   "execution_count": 35,
   "metadata": {},
   "outputs": [
    {
     "data": {
      "text/plain": [
       "'Ammar Ammar'"
      ]
     },
     "execution_count": 35,
     "metadata": {},
     "output_type": "execute_result"
    }
   ],
   "source": [
    "name = \"Ammar\"\n",
    "name = name +\" \"+name\n",
    "name"
   ]
  },
  {
   "cell_type": "code",
   "execution_count": 37,
   "metadata": {},
   "outputs": [
    {
     "name": "stdout",
     "output_type": "stream",
     "text": [
      "1. Addition\n",
      "2. Multiplication\n",
      "3. Division\n",
      "4. Subtraction\n",
      "7\n"
     ]
    }
   ],
   "source": [
    "a = int(input(\"Enter an integer : \"))\n",
    "b = int(input(\"Enter another integer : \"))\n",
    "print(\"1. Addition\")\n",
    "print(\"2. Multiplication\")\n",
    "print(\"3. Division\")\n",
    "print(\"4. Subtraction\")\n",
    "choice = int(input(\"What do you want to do : \"))\n",
    "if choice ==  1:\n",
    "    print(a+b)\n",
    "elif choice == 2:\n",
    "    print(a*b)\n",
    "elif choice == 3:\n",
    "    print(a/3)\n",
    "elif choice == 4:\n",
    "    print(a-b)"
   ]
  },
  {
   "cell_type": "code",
   "execution_count": 14,
   "metadata": {},
   "outputs": [
    {
     "name": "stdout",
     "output_type": "stream",
     "text": [
      "AJrpan\n"
     ]
    }
   ],
   "source": [
    "s1 = input(\"Enter first string : \")\n",
    "s2 = input(\"Enter second string : \")\n",
    "s3 = s1[0]+s2[0]+s1[(len(s1))//2]+s2[(len(s2))//2]+s1[-1]+s2[-1]\n",
    "print(s3)"
   ]
  },
  {
   "cell_type": "code",
   "execution_count": 17,
   "metadata": {},
   "outputs": [
    {
     "data": {
      "text/plain": [
       "'SoftDesignware'"
      ]
     },
     "execution_count": 17,
     "metadata": {},
     "output_type": "execute_result"
    }
   ],
   "source": [
    "\n",
    "\n",
    "def func(s1,s2):\n",
    "  middle = (len(s1))//2\n",
    "  return(s1[:middle]+s2+s1[middle:])\n",
    "s1 = input(\"Enter first string : \")\n",
    "s2 = input(\"Enter second string : \")\n",
    "func(s1,s2)\n",
    "\n",
    "\n"
   ]
  },
  {
   "cell_type": "code",
   "execution_count": 19,
   "metadata": {},
   "outputs": [
    {
     "data": {
      "text/plain": [
       "4.2"
      ]
     },
     "execution_count": 19,
     "metadata": {},
     "output_type": "execute_result"
    }
   ],
   "source": [
    "l1 = ['Facebook',0.0,'USD',29,3.5]\n",
    "l2 = ['Insta',0.0,'USD',29,4.5]\n",
    "l3 = ['COC',0.0,'USD',29,4.5]\n",
    "l4 = ['Temple Run',0.0,'USD',29,4.5]\n",
    "l5 = ['pANDORA',0.0,'USD',29,4.0]\n",
    "avg = (l1[4]+l2[4]+l2[4]+l4[4]+l5[4])/5\n",
    "avg\n"
   ]
  },
  {
   "cell_type": "code",
   "execution_count": 22,
   "metadata": {},
   "outputs": [
    {
     "name": "stdout",
     "output_type": "stream",
     "text": [
      "['Machine Learning', 'Software Construction', 'Formal Methods']\n"
     ]
    },
    {
     "data": {
      "text/plain": [
       "['Machine Learning', 'Formal Methods']"
      ]
     },
     "execution_count": 22,
     "metadata": {},
     "output_type": "execute_result"
    }
   ],
   "source": [
    "course= ['Machine Learning','Software Construction','Formal Methods']\n",
    "print(course)\n",
    "course.remove('Software Construction')\n",
    "course\n"
   ]
  },
  {
   "cell_type": "code",
   "execution_count": 23,
   "metadata": {},
   "outputs": [
    {
     "data": {
      "text/plain": [
       "['Machine Learning', 'ARTIFICIAL INTELLIGENCE', 'Formal Methods']"
      ]
     },
     "execution_count": 23,
     "metadata": {},
     "output_type": "execute_result"
    }
   ],
   "source": [
    "course.insert(1,'ARTIFICIAL INTELLIGENCE')\n",
    "course"
   ]
  },
  {
   "cell_type": "code",
   "execution_count": 31,
   "metadata": {},
   "outputs": [
    {
     "data": {
      "text/plain": [
       "['Machine Learning', 'Formal Methods']"
      ]
     },
     "execution_count": 31,
     "metadata": {},
     "output_type": "execute_result"
    }
   ],
   "source": [
    "course[::2]"
   ]
  },
  {
   "cell_type": "code",
   "execution_count": null,
   "metadata": {},
   "outputs": [],
   "source": []
  }
 ],
 "metadata": {
  "kernelspec": {
   "display_name": "Python 3",
   "language": "python",
   "name": "python3"
  },
  "language_info": {
   "codemirror_mode": {
    "name": "ipython",
    "version": 3
   },
   "file_extension": ".py",
   "mimetype": "text/x-python",
   "name": "python",
   "nbconvert_exporter": "python",
   "pygments_lexer": "ipython3",
   "version": "3.10.4"
  },
  "orig_nbformat": 4,
  "vscode": {
   "interpreter": {
    "hash": "26de051ba29f2982a8de78e945f0abaf191376122a1563185a90213a26c5da77"
   }
  }
 },
 "nbformat": 4,
 "nbformat_minor": 2
}
