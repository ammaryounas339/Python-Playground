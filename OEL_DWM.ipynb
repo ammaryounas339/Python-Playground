{
 "cells": [
  {
   "cell_type": "code",
   "execution_count": 4,
   "metadata": {},
   "outputs": [],
   "source": [
    "import pandas as pd\n",
    "import numpy as np\n",
    "df = pd.read_csv(\"cars_clus.csv\")"
   ]
  },
  {
   "cell_type": "code",
   "execution_count": 5,
   "metadata": {},
   "outputs": [
    {
     "name": "stdout",
     "output_type": "stream",
     "text": [
      "Column: manufact\n",
      "Count of null : None\n",
      "\n",
      "Column: model\n",
      "Count of null : None\n",
      "\n",
      "Column: sales\n",
      "Count of null : 2\n",
      "\n",
      "Column: resale\n",
      "Count of null : 38\n",
      "\n",
      "Column: type\n",
      "Count of null : 2\n",
      "\n",
      "Column: price\n",
      "Count of null : 2\n",
      "\n",
      "Column: engine_s\n",
      "Count of null : 1\n",
      "\n",
      "Column: horsepow\n",
      "Count of null : 1\n",
      "\n",
      "Column: wheelbas\n",
      "Count of null : 1\n",
      "\n",
      "Column: width\n",
      "Count of null : 1\n",
      "\n",
      "Column: length\n",
      "Count of null : 1\n",
      "\n",
      "Column: curb_wgt\n",
      "Count of null : 2\n",
      "\n",
      "Column: fuel_cap\n",
      "Count of null : 1\n",
      "\n",
      "Column: mpg\n",
      "Count of null : 3\n",
      "\n",
      "Column: lnsales\n",
      "Count of null : 2\n",
      "\n",
      "Column: partition\n",
      "Count of null : None\n",
      "\n"
     ]
    }
   ],
   "source": [
    "for column in df.columns:\n",
    "    count = df[column].value_counts().get('$null$')\n",
    "    print(\"Column:\", column)\n",
    "    print(\"Count of null\", \":\", count)\n",
    "    print()"
   ]
  },
  {
   "attachments": {},
   "cell_type": "markdown",
   "metadata": {},
   "source": [
    "**Null values in dataset were represented as \"$null$\" so we replaced it with NaN values**"
   ]
  },
  {
   "cell_type": "code",
   "execution_count": 6,
   "metadata": {},
   "outputs": [
    {
     "data": {
      "text/plain": [
       "(159, 16)"
      ]
     },
     "execution_count": 6,
     "metadata": {},
     "output_type": "execute_result"
    }
   ],
   "source": [
    "df = df.replace(\"$null$\",np.nan)\n",
    "df.shape"
   ]
  },
  {
   "attachments": {},
   "cell_type": "markdown",
   "metadata": {},
   "source": [
    "**Rows having more than 2 null values were removed**"
   ]
  },
  {
   "cell_type": "code",
   "execution_count": 7,
   "metadata": {},
   "outputs": [
    {
     "name": "stdout",
     "output_type": "stream",
     "text": [
      "    manufact    model   sales  resale   type   price engine_s horsepow  \\\n",
      "0      Acura  Integra  16.919  16.360  0.000  21.500    1.800  140.000   \n",
      "1      Acura       TL  39.384  19.875  0.000  28.400    3.200  225.000   \n",
      "2      Acura       CL  14.114  18.225  0.000     NaN    3.200  225.000   \n",
      "3      Acura       RL   8.588  29.725  0.000  42.000    3.500  210.000   \n",
      "4       Audi       A4  20.397  22.255  0.000  23.990    1.800  150.000   \n",
      "..       ...      ...     ...     ...    ...     ...      ...      ...   \n",
      "152    Volvo      V40   3.545     NaN  0.000  24.400    1.900  160.000   \n",
      "153    Volvo      S70  15.245     NaN  0.000  27.500    2.400  168.000   \n",
      "154    Volvo      V70  17.531     NaN  0.000  28.800    2.400  168.000   \n",
      "155    Volvo      C70   3.493     NaN  0.000  45.500    2.300  236.000   \n",
      "156    Volvo      S80  18.969     NaN  0.000  36.000    2.900  201.000   \n",
      "\n",
      "    wheelbas   width   length curb_wgt fuel_cap     mpg lnsales  partition  \n",
      "0    101.200  67.300  172.400    2.639   13.200  28.000   2.828        0.0  \n",
      "1    108.100  70.300  192.900    3.517   17.200  25.000   3.673        0.0  \n",
      "2    106.900  70.600  192.000    3.470   17.200  26.000   2.647        0.0  \n",
      "3    114.600  71.400  196.600    3.850   18.000  22.000   2.150        0.0  \n",
      "4    102.600  68.200  178.000    2.998   16.400  27.000   3.015        0.0  \n",
      "..       ...     ...      ...      ...      ...     ...     ...        ...  \n",
      "152  100.500  67.600  176.600    3.042   15.800  25.000   1.266        0.0  \n",
      "153  104.900  69.300  185.900    3.208   17.900  25.000   2.724        0.0  \n",
      "154  104.900  69.300  186.200    3.259   17.900  25.000   2.864        0.0  \n",
      "155  104.900  71.500  185.700    3.601   18.500  23.000   1.251        0.0  \n",
      "156  109.900  72.100  189.800    3.600   21.100  24.000   2.943        0.0  \n",
      "\n",
      "[156 rows x 16 columns]\n"
     ]
    }
   ],
   "source": [
    "null_counts = df.isnull().sum(axis=1)\n",
    "df= df.drop(null_counts[null_counts > 2].index)\n",
    "print(df)"
   ]
  },
  {
   "cell_type": "code",
   "execution_count": 8,
   "metadata": {},
   "outputs": [
    {
     "data": {
      "text/plain": [
       "manufact      object\n",
       "model         object\n",
       "sales         object\n",
       "resale        object\n",
       "type          object\n",
       "price         object\n",
       "engine_s      object\n",
       "horsepow      object\n",
       "wheelbas      object\n",
       "width         object\n",
       "length        object\n",
       "curb_wgt      object\n",
       "fuel_cap      object\n",
       "mpg           object\n",
       "lnsales       object\n",
       "partition    float64\n",
       "dtype: object"
      ]
     },
     "execution_count": 8,
     "metadata": {},
     "output_type": "execute_result"
    }
   ],
   "source": [
    "df['manufact'].fillna(df['manufact'].mode()[0],inplace = True)\n",
    "df.dtypes"
   ]
  },
  {
   "attachments": {},
   "cell_type": "markdown",
   "metadata": {},
   "source": [
    "**Change type of numerical columns from object to float**"
   ]
  },
  {
   "cell_type": "code",
   "execution_count": 9,
   "metadata": {},
   "outputs": [
    {
     "name": "stdout",
     "output_type": "stream",
     "text": [
      "manufact      object\n",
      "model         object\n",
      "sales        float64\n",
      "resale       float64\n",
      "type         float64\n",
      "price        float64\n",
      "engine_s     float64\n",
      "horsepow     float64\n",
      "wheelbas     float64\n",
      "width        float64\n",
      "length       float64\n",
      "curb_wgt     float64\n",
      "fuel_cap     float64\n",
      "mpg          float64\n",
      "lnsales      float64\n",
      "partition    float64\n",
      "dtype: object\n"
     ]
    }
   ],
   "source": [
    "df.iloc[:, 2:] = df.iloc[:, 2:].apply(pd.to_numeric, errors='coerce')\n",
    "print(df.dtypes)"
   ]
  },
  {
   "cell_type": "code",
   "execution_count": 10,
   "metadata": {},
   "outputs": [
    {
     "data": {
      "text/html": [
       "<div>\n",
       "<style scoped>\n",
       "    .dataframe tbody tr th:only-of-type {\n",
       "        vertical-align: middle;\n",
       "    }\n",
       "\n",
       "    .dataframe tbody tr th {\n",
       "        vertical-align: top;\n",
       "    }\n",
       "\n",
       "    .dataframe thead th {\n",
       "        text-align: right;\n",
       "    }\n",
       "</style>\n",
       "<table border=\"1\" class=\"dataframe\">\n",
       "  <thead>\n",
       "    <tr style=\"text-align: right;\">\n",
       "      <th></th>\n",
       "      <th>sales</th>\n",
       "      <th>resale</th>\n",
       "      <th>type</th>\n",
       "      <th>price</th>\n",
       "      <th>engine_s</th>\n",
       "      <th>horsepow</th>\n",
       "      <th>wheelbas</th>\n",
       "      <th>width</th>\n",
       "      <th>length</th>\n",
       "      <th>curb_wgt</th>\n",
       "      <th>fuel_cap</th>\n",
       "      <th>mpg</th>\n",
       "      <th>lnsales</th>\n",
       "      <th>partition</th>\n",
       "    </tr>\n",
       "  </thead>\n",
       "  <tbody>\n",
       "    <tr>\n",
       "      <th>count</th>\n",
       "      <td>156.000000</td>\n",
       "      <td>120.000000</td>\n",
       "      <td>156.000000</td>\n",
       "      <td>155.000000</td>\n",
       "      <td>156.000000</td>\n",
       "      <td>156.000000</td>\n",
       "      <td>156.000000</td>\n",
       "      <td>156.000000</td>\n",
       "      <td>156.000000</td>\n",
       "      <td>155.000000</td>\n",
       "      <td>156.000000</td>\n",
       "      <td>154.000000</td>\n",
       "      <td>156.000000</td>\n",
       "      <td>156.0</td>\n",
       "    </tr>\n",
       "    <tr>\n",
       "      <th>mean</th>\n",
       "      <td>52.994987</td>\n",
       "      <td>18.060750</td>\n",
       "      <td>0.256410</td>\n",
       "      <td>27.390755</td>\n",
       "      <td>3.060897</td>\n",
       "      <td>185.948718</td>\n",
       "      <td>107.487179</td>\n",
       "      <td>71.150000</td>\n",
       "      <td>187.343590</td>\n",
       "      <td>3.378026</td>\n",
       "      <td>17.951923</td>\n",
       "      <td>23.843506</td>\n",
       "      <td>3.291468</td>\n",
       "      <td>0.0</td>\n",
       "    </tr>\n",
       "    <tr>\n",
       "      <th>std</th>\n",
       "      <td>68.248508</td>\n",
       "      <td>11.500614</td>\n",
       "      <td>0.438057</td>\n",
       "      <td>14.351653</td>\n",
       "      <td>1.044653</td>\n",
       "      <td>56.700321</td>\n",
       "      <td>7.641303</td>\n",
       "      <td>3.451872</td>\n",
       "      <td>13.431754</td>\n",
       "      <td>0.630502</td>\n",
       "      <td>3.887921</td>\n",
       "      <td>4.282720</td>\n",
       "      <td>1.321317</td>\n",
       "      <td>0.0</td>\n",
       "    </tr>\n",
       "    <tr>\n",
       "      <th>min</th>\n",
       "      <td>0.110000</td>\n",
       "      <td>5.160000</td>\n",
       "      <td>0.000000</td>\n",
       "      <td>9.235000</td>\n",
       "      <td>1.000000</td>\n",
       "      <td>55.000000</td>\n",
       "      <td>92.600000</td>\n",
       "      <td>62.600000</td>\n",
       "      <td>149.400000</td>\n",
       "      <td>1.895000</td>\n",
       "      <td>10.300000</td>\n",
       "      <td>15.000000</td>\n",
       "      <td>-2.207000</td>\n",
       "      <td>0.0</td>\n",
       "    </tr>\n",
       "    <tr>\n",
       "      <th>25%</th>\n",
       "      <td>14.035000</td>\n",
       "      <td>11.255000</td>\n",
       "      <td>0.000000</td>\n",
       "      <td>18.017500</td>\n",
       "      <td>2.300000</td>\n",
       "      <td>149.500000</td>\n",
       "      <td>103.000000</td>\n",
       "      <td>68.400000</td>\n",
       "      <td>177.575000</td>\n",
       "      <td>2.971000</td>\n",
       "      <td>15.800000</td>\n",
       "      <td>21.000000</td>\n",
       "      <td>2.641500</td>\n",
       "      <td>0.0</td>\n",
       "    </tr>\n",
       "    <tr>\n",
       "      <th>50%</th>\n",
       "      <td>29.213000</td>\n",
       "      <td>14.095000</td>\n",
       "      <td>0.000000</td>\n",
       "      <td>22.799000</td>\n",
       "      <td>3.000000</td>\n",
       "      <td>177.500000</td>\n",
       "      <td>107.000000</td>\n",
       "      <td>70.550000</td>\n",
       "      <td>187.900000</td>\n",
       "      <td>3.342000</td>\n",
       "      <td>17.200000</td>\n",
       "      <td>24.000000</td>\n",
       "      <td>3.374500</td>\n",
       "      <td>0.0</td>\n",
       "    </tr>\n",
       "    <tr>\n",
       "      <th>75%</th>\n",
       "      <td>68.069750</td>\n",
       "      <td>19.878750</td>\n",
       "      <td>1.000000</td>\n",
       "      <td>31.947500</td>\n",
       "      <td>3.575000</td>\n",
       "      <td>215.000000</td>\n",
       "      <td>112.200000</td>\n",
       "      <td>73.425000</td>\n",
       "      <td>196.125000</td>\n",
       "      <td>3.799500</td>\n",
       "      <td>19.575000</td>\n",
       "      <td>26.000000</td>\n",
       "      <td>4.220750</td>\n",
       "      <td>0.0</td>\n",
       "    </tr>\n",
       "    <tr>\n",
       "      <th>max</th>\n",
       "      <td>540.561000</td>\n",
       "      <td>67.550000</td>\n",
       "      <td>1.000000</td>\n",
       "      <td>85.500000</td>\n",
       "      <td>8.000000</td>\n",
       "      <td>450.000000</td>\n",
       "      <td>138.700000</td>\n",
       "      <td>79.900000</td>\n",
       "      <td>224.500000</td>\n",
       "      <td>5.572000</td>\n",
       "      <td>32.000000</td>\n",
       "      <td>45.000000</td>\n",
       "      <td>6.293000</td>\n",
       "      <td>0.0</td>\n",
       "    </tr>\n",
       "  </tbody>\n",
       "</table>\n",
       "</div>"
      ],
      "text/plain": [
       "            sales      resale        type       price    engine_s    horsepow  \\\n",
       "count  156.000000  120.000000  156.000000  155.000000  156.000000  156.000000   \n",
       "mean    52.994987   18.060750    0.256410   27.390755    3.060897  185.948718   \n",
       "std     68.248508   11.500614    0.438057   14.351653    1.044653   56.700321   \n",
       "min      0.110000    5.160000    0.000000    9.235000    1.000000   55.000000   \n",
       "25%     14.035000   11.255000    0.000000   18.017500    2.300000  149.500000   \n",
       "50%     29.213000   14.095000    0.000000   22.799000    3.000000  177.500000   \n",
       "75%     68.069750   19.878750    1.000000   31.947500    3.575000  215.000000   \n",
       "max    540.561000   67.550000    1.000000   85.500000    8.000000  450.000000   \n",
       "\n",
       "         wheelbas       width      length    curb_wgt    fuel_cap         mpg  \\\n",
       "count  156.000000  156.000000  156.000000  155.000000  156.000000  154.000000   \n",
       "mean   107.487179   71.150000  187.343590    3.378026   17.951923   23.843506   \n",
       "std      7.641303    3.451872   13.431754    0.630502    3.887921    4.282720   \n",
       "min     92.600000   62.600000  149.400000    1.895000   10.300000   15.000000   \n",
       "25%    103.000000   68.400000  177.575000    2.971000   15.800000   21.000000   \n",
       "50%    107.000000   70.550000  187.900000    3.342000   17.200000   24.000000   \n",
       "75%    112.200000   73.425000  196.125000    3.799500   19.575000   26.000000   \n",
       "max    138.700000   79.900000  224.500000    5.572000   32.000000   45.000000   \n",
       "\n",
       "          lnsales  partition  \n",
       "count  156.000000      156.0  \n",
       "mean     3.291468        0.0  \n",
       "std      1.321317        0.0  \n",
       "min     -2.207000        0.0  \n",
       "25%      2.641500        0.0  \n",
       "50%      3.374500        0.0  \n",
       "75%      4.220750        0.0  \n",
       "max      6.293000        0.0  "
      ]
     },
     "execution_count": 10,
     "metadata": {},
     "output_type": "execute_result"
    }
   ],
   "source": [
    "df.describe()"
   ]
  },
  {
   "attachments": {},
   "cell_type": "markdown",
   "metadata": {},
   "source": [
    "**Because the column resale had a lot of nulls so we used linear regression to fill null values in it , iterative imputer from sklearn automatically fills null vlaues using linear regression**"
   ]
  },
  {
   "cell_type": "code",
   "execution_count": 11,
   "metadata": {},
   "outputs": [
    {
     "name": "stdout",
     "output_type": "stream",
     "text": [
      "    manufact    model   sales    resale  type  price  engine_s  horsepow  \\\n",
      "0      Acura  Integra  16.919  16.36000   0.0  21.50       1.8     140.0   \n",
      "1      Acura       TL  39.384  19.87500   0.0  28.40       3.2     225.0   \n",
      "2      Acura       CL  14.114  18.22500   0.0    NaN       3.2     225.0   \n",
      "3      Acura       RL   8.588  29.72500   0.0  42.00       3.5     210.0   \n",
      "4       Audi       A4  20.397  22.25500   0.0  23.99       1.8     150.0   \n",
      "..       ...      ...     ...       ...   ...    ...       ...       ...   \n",
      "152    Volvo      V40   3.545  18.06075   0.0  24.40       1.9     160.0   \n",
      "153    Volvo      S70  15.245  18.06075   0.0  27.50       2.4     168.0   \n",
      "154    Volvo      V70  17.531  18.06075   0.0  28.80       2.4     168.0   \n",
      "155    Volvo      C70   3.493  18.06075   0.0  45.50       2.3     236.0   \n",
      "156    Volvo      S80  18.969  18.06075   0.0  36.00       2.9     201.0   \n",
      "\n",
      "     wheelbas  width  length  curb_wgt  fuel_cap   mpg  lnsales  partition  \n",
      "0       101.2   67.3   172.4     2.639      13.2  28.0    2.828        0.0  \n",
      "1       108.1   70.3   192.9     3.517      17.2  25.0    3.673        0.0  \n",
      "2       106.9   70.6   192.0     3.470      17.2  26.0    2.647        0.0  \n",
      "3       114.6   71.4   196.6     3.850      18.0  22.0    2.150        0.0  \n",
      "4       102.6   68.2   178.0     2.998      16.4  27.0    3.015        0.0  \n",
      "..        ...    ...     ...       ...       ...   ...      ...        ...  \n",
      "152     100.5   67.6   176.6     3.042      15.8  25.0    1.266        0.0  \n",
      "153     104.9   69.3   185.9     3.208      17.9  25.0    2.724        0.0  \n",
      "154     104.9   69.3   186.2     3.259      17.9  25.0    2.864        0.0  \n",
      "155     104.9   71.5   185.7     3.601      18.5  23.0    1.251        0.0  \n",
      "156     109.9   72.1   189.8     3.600      21.1  24.0    2.943        0.0  \n",
      "\n",
      "[156 rows x 16 columns]\n"
     ]
    }
   ],
   "source": [
    "from sklearn.experimental import enable_iterative_imputer\n",
    "from sklearn.impute import IterativeImputer\n",
    "imputer = IterativeImputer(max_iter=10)\n",
    "imputed_column = imputer.fit_transform(df[['resale']])\n",
    "df['resale'] = imputed_column\n",
    "print(df)"
   ]
  },
  {
   "cell_type": "code",
   "execution_count": 12,
   "metadata": {},
   "outputs": [],
   "source": [
    "mode_value = df['type'].mode()[0]\n",
    "df['type'].fillna(mode_value, inplace=True)\n"
   ]
  },
  {
   "cell_type": "code",
   "execution_count": 13,
   "metadata": {},
   "outputs": [
    {
     "data": {
      "text/plain": [
       "manufact     0\n",
       "model        0\n",
       "sales        0\n",
       "resale       0\n",
       "type         0\n",
       "price        1\n",
       "engine_s     0\n",
       "horsepow     0\n",
       "wheelbas     0\n",
       "width        0\n",
       "length       0\n",
       "curb_wgt     1\n",
       "fuel_cap     0\n",
       "mpg          2\n",
       "lnsales      0\n",
       "partition    0\n",
       "dtype: int64"
      ]
     },
     "execution_count": 13,
     "metadata": {},
     "output_type": "execute_result"
    }
   ],
   "source": [
    "df.isnull().sum()\n"
   ]
  },
  {
   "attachments": {},
   "cell_type": "markdown",
   "metadata": {},
   "source": [
    "**Any left columns with null values were filled with median of column**"
   ]
  },
  {
   "cell_type": "code",
   "execution_count": 14,
   "metadata": {},
   "outputs": [],
   "source": [
    "for column in df.columns:\n",
    "    if df[column].isnull().sum()>0:\n",
    "        df[column].fillna(df[column].median(), inplace=True)"
   ]
  },
  {
   "cell_type": "code",
   "execution_count": 15,
   "metadata": {},
   "outputs": [
    {
     "data": {
      "text/plain": [
       "manufact     0\n",
       "model        0\n",
       "sales        0\n",
       "resale       0\n",
       "type         0\n",
       "price        0\n",
       "engine_s     0\n",
       "horsepow     0\n",
       "wheelbas     0\n",
       "width        0\n",
       "length       0\n",
       "curb_wgt     0\n",
       "fuel_cap     0\n",
       "mpg          0\n",
       "lnsales      0\n",
       "partition    0\n",
       "dtype: int64"
      ]
     },
     "execution_count": 15,
     "metadata": {},
     "output_type": "execute_result"
    }
   ],
   "source": [
    "df.isnull().sum()\n"
   ]
  },
  {
   "cell_type": "code",
   "execution_count": 16,
   "metadata": {},
   "outputs": [
    {
     "data": {
      "text/html": [
       "<div>\n",
       "<style scoped>\n",
       "    .dataframe tbody tr th:only-of-type {\n",
       "        vertical-align: middle;\n",
       "    }\n",
       "\n",
       "    .dataframe tbody tr th {\n",
       "        vertical-align: top;\n",
       "    }\n",
       "\n",
       "    .dataframe thead th {\n",
       "        text-align: right;\n",
       "    }\n",
       "</style>\n",
       "<table border=\"1\" class=\"dataframe\">\n",
       "  <thead>\n",
       "    <tr style=\"text-align: right;\">\n",
       "      <th></th>\n",
       "      <th>sales</th>\n",
       "      <th>resale</th>\n",
       "      <th>type</th>\n",
       "      <th>price</th>\n",
       "      <th>engine_s</th>\n",
       "      <th>horsepow</th>\n",
       "      <th>wheelbas</th>\n",
       "      <th>width</th>\n",
       "      <th>length</th>\n",
       "      <th>curb_wgt</th>\n",
       "      <th>fuel_cap</th>\n",
       "      <th>mpg</th>\n",
       "      <th>lnsales</th>\n",
       "      <th>partition</th>\n",
       "    </tr>\n",
       "  </thead>\n",
       "  <tbody>\n",
       "    <tr>\n",
       "      <th>count</th>\n",
       "      <td>156.000000</td>\n",
       "      <td>156.000000</td>\n",
       "      <td>156.000000</td>\n",
       "      <td>156.000000</td>\n",
       "      <td>156.000000</td>\n",
       "      <td>156.000000</td>\n",
       "      <td>156.000000</td>\n",
       "      <td>156.000000</td>\n",
       "      <td>156.000000</td>\n",
       "      <td>156.000000</td>\n",
       "      <td>156.000000</td>\n",
       "      <td>156.000000</td>\n",
       "      <td>156.000000</td>\n",
       "      <td>156.0</td>\n",
       "    </tr>\n",
       "    <tr>\n",
       "      <th>mean</th>\n",
       "      <td>52.994987</td>\n",
       "      <td>18.060750</td>\n",
       "      <td>0.256410</td>\n",
       "      <td>27.361321</td>\n",
       "      <td>3.060897</td>\n",
       "      <td>185.948718</td>\n",
       "      <td>107.487179</td>\n",
       "      <td>71.150000</td>\n",
       "      <td>187.343590</td>\n",
       "      <td>3.377795</td>\n",
       "      <td>17.951923</td>\n",
       "      <td>23.845513</td>\n",
       "      <td>3.291468</td>\n",
       "      <td>0.0</td>\n",
       "    </tr>\n",
       "    <tr>\n",
       "      <th>std</th>\n",
       "      <td>68.248508</td>\n",
       "      <td>10.076940</td>\n",
       "      <td>0.438057</td>\n",
       "      <td>14.310006</td>\n",
       "      <td>1.044653</td>\n",
       "      <td>56.700321</td>\n",
       "      <td>7.641303</td>\n",
       "      <td>3.451872</td>\n",
       "      <td>13.431754</td>\n",
       "      <td>0.628471</td>\n",
       "      <td>3.887921</td>\n",
       "      <td>4.255036</td>\n",
       "      <td>1.321317</td>\n",
       "      <td>0.0</td>\n",
       "    </tr>\n",
       "    <tr>\n",
       "      <th>min</th>\n",
       "      <td>0.110000</td>\n",
       "      <td>5.160000</td>\n",
       "      <td>0.000000</td>\n",
       "      <td>9.235000</td>\n",
       "      <td>1.000000</td>\n",
       "      <td>55.000000</td>\n",
       "      <td>92.600000</td>\n",
       "      <td>62.600000</td>\n",
       "      <td>149.400000</td>\n",
       "      <td>1.895000</td>\n",
       "      <td>10.300000</td>\n",
       "      <td>15.000000</td>\n",
       "      <td>-2.207000</td>\n",
       "      <td>0.0</td>\n",
       "    </tr>\n",
       "    <tr>\n",
       "      <th>25%</th>\n",
       "      <td>14.035000</td>\n",
       "      <td>12.527500</td>\n",
       "      <td>0.000000</td>\n",
       "      <td>18.081250</td>\n",
       "      <td>2.300000</td>\n",
       "      <td>149.500000</td>\n",
       "      <td>103.000000</td>\n",
       "      <td>68.400000</td>\n",
       "      <td>177.575000</td>\n",
       "      <td>2.973000</td>\n",
       "      <td>15.800000</td>\n",
       "      <td>21.000000</td>\n",
       "      <td>2.641500</td>\n",
       "      <td>0.0</td>\n",
       "    </tr>\n",
       "    <tr>\n",
       "      <th>50%</th>\n",
       "      <td>29.213000</td>\n",
       "      <td>17.617500</td>\n",
       "      <td>0.000000</td>\n",
       "      <td>22.799000</td>\n",
       "      <td>3.000000</td>\n",
       "      <td>177.500000</td>\n",
       "      <td>107.000000</td>\n",
       "      <td>70.550000</td>\n",
       "      <td>187.900000</td>\n",
       "      <td>3.342000</td>\n",
       "      <td>17.200000</td>\n",
       "      <td>24.000000</td>\n",
       "      <td>3.374500</td>\n",
       "      <td>0.0</td>\n",
       "    </tr>\n",
       "    <tr>\n",
       "      <th>75%</th>\n",
       "      <td>68.069750</td>\n",
       "      <td>18.080562</td>\n",
       "      <td>1.000000</td>\n",
       "      <td>31.938750</td>\n",
       "      <td>3.575000</td>\n",
       "      <td>215.000000</td>\n",
       "      <td>112.200000</td>\n",
       "      <td>73.425000</td>\n",
       "      <td>196.125000</td>\n",
       "      <td>3.788750</td>\n",
       "      <td>19.575000</td>\n",
       "      <td>26.000000</td>\n",
       "      <td>4.220750</td>\n",
       "      <td>0.0</td>\n",
       "    </tr>\n",
       "    <tr>\n",
       "      <th>max</th>\n",
       "      <td>540.561000</td>\n",
       "      <td>67.550000</td>\n",
       "      <td>1.000000</td>\n",
       "      <td>85.500000</td>\n",
       "      <td>8.000000</td>\n",
       "      <td>450.000000</td>\n",
       "      <td>138.700000</td>\n",
       "      <td>79.900000</td>\n",
       "      <td>224.500000</td>\n",
       "      <td>5.572000</td>\n",
       "      <td>32.000000</td>\n",
       "      <td>45.000000</td>\n",
       "      <td>6.293000</td>\n",
       "      <td>0.0</td>\n",
       "    </tr>\n",
       "  </tbody>\n",
       "</table>\n",
       "</div>"
      ],
      "text/plain": [
       "            sales      resale        type       price    engine_s    horsepow  \\\n",
       "count  156.000000  156.000000  156.000000  156.000000  156.000000  156.000000   \n",
       "mean    52.994987   18.060750    0.256410   27.361321    3.060897  185.948718   \n",
       "std     68.248508   10.076940    0.438057   14.310006    1.044653   56.700321   \n",
       "min      0.110000    5.160000    0.000000    9.235000    1.000000   55.000000   \n",
       "25%     14.035000   12.527500    0.000000   18.081250    2.300000  149.500000   \n",
       "50%     29.213000   17.617500    0.000000   22.799000    3.000000  177.500000   \n",
       "75%     68.069750   18.080562    1.000000   31.938750    3.575000  215.000000   \n",
       "max    540.561000   67.550000    1.000000   85.500000    8.000000  450.000000   \n",
       "\n",
       "         wheelbas       width      length    curb_wgt    fuel_cap         mpg  \\\n",
       "count  156.000000  156.000000  156.000000  156.000000  156.000000  156.000000   \n",
       "mean   107.487179   71.150000  187.343590    3.377795   17.951923   23.845513   \n",
       "std      7.641303    3.451872   13.431754    0.628471    3.887921    4.255036   \n",
       "min     92.600000   62.600000  149.400000    1.895000   10.300000   15.000000   \n",
       "25%    103.000000   68.400000  177.575000    2.973000   15.800000   21.000000   \n",
       "50%    107.000000   70.550000  187.900000    3.342000   17.200000   24.000000   \n",
       "75%    112.200000   73.425000  196.125000    3.788750   19.575000   26.000000   \n",
       "max    138.700000   79.900000  224.500000    5.572000   32.000000   45.000000   \n",
       "\n",
       "          lnsales  partition  \n",
       "count  156.000000      156.0  \n",
       "mean     3.291468        0.0  \n",
       "std      1.321317        0.0  \n",
       "min     -2.207000        0.0  \n",
       "25%      2.641500        0.0  \n",
       "50%      3.374500        0.0  \n",
       "75%      4.220750        0.0  \n",
       "max      6.293000        0.0  "
      ]
     },
     "execution_count": 16,
     "metadata": {},
     "output_type": "execute_result"
    }
   ],
   "source": [
    "df.describe()"
   ]
  },
  {
   "attachments": {},
   "cell_type": "markdown",
   "metadata": {},
   "source": [
    "**Features such as ‘manufact’, ‘model’, ‘sales’, ‘resale’, and ‘partition’ were dropped as they were considered irrelevant to compare for newly developed vehicle prototypes**"
   ]
  },
  {
   "cell_type": "code",
   "execution_count": 17,
   "metadata": {},
   "outputs": [
    {
     "name": "stdout",
     "output_type": "stream",
     "text": [
      "     type   price  engine_s  horsepow  wheelbas  width  length  curb_wgt  \\\n",
      "0     0.0  21.500       1.8     140.0     101.2   67.3   172.4     2.639   \n",
      "1     0.0  28.400       3.2     225.0     108.1   70.3   192.9     3.517   \n",
      "2     0.0  22.799       3.2     225.0     106.9   70.6   192.0     3.470   \n",
      "3     0.0  42.000       3.5     210.0     114.6   71.4   196.6     3.850   \n",
      "4     0.0  23.990       1.8     150.0     102.6   68.2   178.0     2.998   \n",
      "..    ...     ...       ...       ...       ...    ...     ...       ...   \n",
      "152   0.0  24.400       1.9     160.0     100.5   67.6   176.6     3.042   \n",
      "153   0.0  27.500       2.4     168.0     104.9   69.3   185.9     3.208   \n",
      "154   0.0  28.800       2.4     168.0     104.9   69.3   186.2     3.259   \n",
      "155   0.0  45.500       2.3     236.0     104.9   71.5   185.7     3.601   \n",
      "156   0.0  36.000       2.9     201.0     109.9   72.1   189.8     3.600   \n",
      "\n",
      "     fuel_cap   mpg  \n",
      "0        13.2  28.0  \n",
      "1        17.2  25.0  \n",
      "2        17.2  26.0  \n",
      "3        18.0  22.0  \n",
      "4        16.4  27.0  \n",
      "..        ...   ...  \n",
      "152      15.8  25.0  \n",
      "153      17.9  25.0  \n",
      "154      17.9  25.0  \n",
      "155      18.5  23.0  \n",
      "156      21.1  24.0  \n",
      "\n",
      "[156 rows x 10 columns]\n"
     ]
    }
   ],
   "source": [
    "from sklearn.preprocessing import StandardScaler\n",
    "feature_set = df[['type','price','engine_s','horsepow','wheelbas','width','length','curb_wgt','fuel_cap','mpg']]\n",
    "scaler = StandardScaler()\n",
    "scaler.fit_transform(feature_set)\n",
    "print(feature_set)"
   ]
  },
  {
   "attachments": {},
   "cell_type": "markdown",
   "metadata": {},
   "source": [
    "**Dendogram**"
   ]
  },
  {
   "cell_type": "code",
   "execution_count": 18,
   "metadata": {},
   "outputs": [
    {
     "data": {
      "image/png": "[encoded data removed]",
      "text/plain": [
       "<Figure size 1000x700 with 1 Axes>"
      ]
     },
     "metadata": {},
     "output_type": "display_data"
    }
   ],
   "source": [
    "import scipy.cluster.hierarchy as sch\n",
    "import matplotlib.pyplot as plt\n",
    "plt.figure(figsize=(10, 7))  \n",
    "plt.title(\"Dendrogram\")  \n",
    "dend = sch.dendrogram(sch.linkage(feature_set, method='ward'))"
   ]
  },
  {
   "attachments": {},
   "cell_type": "markdown",
   "metadata": {},
   "source": [
    "**Three colors in dendogram indicates three clusters**"
   ]
  },
  {
   "cell_type": "code",
   "execution_count": 31,
   "metadata": {},
   "outputs": [
    {
     "name": "stderr",
     "output_type": "stream",
     "text": [
      "C:\\Users\\Ammar Younas\\AppData\\Roaming\\Python\\Python310\\site-packages\\sklearn\\cluster\\_agglomerative.py:983: FutureWarning: Attribute `affinity` was deprecated in version 1.2 and will be removed in 1.4. Use `metric` instead\n",
      "  warnings.warn(\n"
     ]
    }
   ],
   "source": [
    "from sklearn.cluster import AgglomerativeClustering\n",
    "cluster = AgglomerativeClustering(n_clusters=3, affinity='euclidean', linkage='ward')  \n",
    "df['clusters'] = cluster.fit_predict(feature_set)\n"
   ]
  },
  {
   "attachments": {},
   "cell_type": "markdown",
   "metadata": {},
   "source": [
    "**Reduced  to show on a 2-d axis ,reduce to two components**"
   ]
  },
  {
   "cell_type": "code",
   "execution_count": 32,
   "metadata": {},
   "outputs": [
    {
     "name": "stdout",
     "output_type": "stream",
     "text": [
      "[[-4.79666968e+01 -1.25728644e+01]\n",
      " [ 3.85613083e+01  2.08315275e+00]\n",
      " [ 3.72308613e+01  2.17529175e+00]\n",
      " [ 2.76370890e+01  5.99403037e+00]\n",
      " [-3.69755948e+01 -7.90379860e+00]\n",
      " [ 1.57511997e+01  2.82509535e+00]\n",
      " [ 1.29265468e+02 -3.09688881e+00]\n",
      " [-1.68778383e+01 -9.23552163e+00]\n",
      " [ 6.87773191e+00 -1.19999738e+01]\n",
      " [ 9.41976138e+00 -1.07632770e+00]\n",
      " [-1.10181226e+01  8.77366483e+00]\n",
      " [ 5.30100241e+01  5.68397258e+00]\n",
      " [ 2.16676235e+01  1.73041062e+01]\n",
      " [ 1.99979741e+01  1.15975603e+01]\n",
      " [ 9.14460799e+01  1.24096915e+01]\n",
      " [ 9.17022285e+01  4.76155622e+00]\n",
      " [ 9.05362620e+01  3.90135521e+00]\n",
      " [ 1.51517019e+01  4.46671576e+00]\n",
      " [ 7.36901747e+01  1.02885446e+01]\n",
      " [-7.29171324e+01 -3.74834171e-01]\n",
      " [-1.76694108e+01  5.29201011e+00]\n",
      " [-1.11628520e+01  1.39852554e+01]\n",
      " [-6.43490369e+00  1.23425511e+01]\n",
      " [ 1.33238813e+01  2.14955854e+00]\n",
      " [ 1.57576977e+02 -2.08594052e+01]\n",
      " [-6.91732731e+01 -1.02506422e+01]\n",
      " [-1.36530296e+02 -2.96848288e+01]\n",
      " [-6.33103876e+00  1.42575401e+01]\n",
      " [-2.37852055e+01  4.01191333e+00]\n",
      " [-1.76878467e+01  5.27294380e+00]\n",
      " [ 1.48120882e+01  2.12020032e+01]\n",
      " [-5.49573587e+01  4.44772305e+00]\n",
      " [ 6.75325184e+01  1.56891189e+01]\n",
      " [ 6.67765369e+01  7.24252797e+00]\n",
      " [-5.70667997e+01 -5.68858027e+00]\n",
      " [-2.40361305e+01  3.54696066e+00]\n",
      " [-1.90954947e+01  1.66936985e+00]\n",
      " [ 1.63993554e+01  1.67302896e+01]\n",
      " [ 2.64229003e+02 -3.84205977e+01]\n",
      " [ 4.67098183e+01  4.67844748e+01]\n",
      " [-1.01551895e+01  1.09468057e+01]\n",
      " [-8.57387647e+00  3.26740774e+01]\n",
      " [-6.22638172e+01  4.08884756e+01]\n",
      " [ 4.40483034e+01  8.04678970e+00]\n",
      " [-3.61374614e+01  6.79109494e+00]\n",
      " [-7.90503023e+01 -8.05582689e+00]\n",
      " [ 2.08156149e+00 -4.99111600e+00]\n",
      " [-1.81517992e+01  6.08344632e-02]\n",
      " [-3.10135872e+01  1.31733269e+01]\n",
      " [-8.17044960e+01 -5.75150988e+00]\n",
      " [ 1.55912415e+01  2.55871801e+01]\n",
      " [ 2.50799400e+01  2.73939254e+00]\n",
      " [-3.37421144e+01  2.27250094e+01]\n",
      " [ 5.72686744e+01  1.68496154e+01]\n",
      " [-6.64593217e+01  2.33973937e+01]\n",
      " [ 3.84829727e+01  4.54008046e+01]\n",
      " [-8.26563957e+01 -5.79656612e+00]\n",
      " [-5.20408843e+01  6.43701258e+00]\n",
      " [-4.14605648e+01 -6.64867852e+00]\n",
      " [ 1.77363030e+01 -8.32430369e+00]\n",
      " [ 2.50510318e+01  1.61894345e+01]\n",
      " [-9.79800058e+01 -1.44667869e+01]\n",
      " [-4.97816882e+01 -8.96301822e+00]\n",
      " [-3.97019683e+01  3.03196320e+00]\n",
      " [ 4.08437679e+01  2.58786235e+00]\n",
      " [ 5.64734427e+01 -2.51152577e-01]\n",
      " [-7.03787399e+01 -2.85883123e+01]\n",
      " [ 8.31658262e-01 -1.76837769e+01]\n",
      " [ 8.43599033e+00 -5.09776710e+00]\n",
      " [ 2.44116836e+01 -1.09184487e+00]\n",
      " [ 4.04451631e+01 -1.88223142e+00]\n",
      " [ 1.15105998e+02 -8.18640040e+00]\n",
      " [ 1.07868042e+02 -2.02576172e+00]\n",
      " [ 5.10848784e+01 -2.04450902e+00]\n",
      " [ 3.38087253e+01 -1.16364952e+01]\n",
      " [ 9.11705017e+01  1.09265783e+01]\n",
      " [ 3.49668375e+01  2.34658532e+01]\n",
      " [ 1.17111682e+02  1.26478566e+01]\n",
      " [-7.58478569e+01 -9.64549079e+00]\n",
      " [-3.42859555e+01 -9.57017284e+00]\n",
      " [-4.21340730e+01  2.90337912e+00]\n",
      " [ 2.35710830e+01  4.81656679e+00]\n",
      " [-2.54520092e+01 -7.93481559e+00]\n",
      " [ 1.49377048e+01 -1.55335737e+00]\n",
      " [-1.43468520e+01 -5.74771220e+00]\n",
      " [-6.21155157e+01  2.78016469e+00]\n",
      " [-6.20773185e+01  2.85793070e+00]\n",
      " [-3.25183739e+01  1.47443469e+01]\n",
      " [ 1.56766666e+01  2.54843825e+01]\n",
      " [ 2.41616618e+01  3.42546260e+00]\n",
      " [-1.52787950e+01  1.13840219e+01]\n",
      " [-1.28322624e+00 -1.08837480e+01]\n",
      " [ 3.90989183e+01 -3.97250745e+00]\n",
      " [ 9.76495508e+01  4.68345129e+00]\n",
      " [ 1.23117267e+02 -3.22542042e+01]\n",
      " [ 2.74127614e+00 -3.43992363e+01]\n",
      " [-1.84284439e+00 -3.54487332e+01]\n",
      " [ 3.01668499e+01 -1.26678553e+01]\n",
      " [ 1.26263796e+02 -9.72930011e+00]\n",
      " [ 2.96007494e+01 -7.11843884e+00]\n",
      " [-6.28812430e+01 -6.28542768e+00]\n",
      " [-3.22212588e+01 -2.25055889e+00]\n",
      " [ 3.50254563e+01  1.04208506e+00]\n",
      " [-1.44619486e+01  1.04839287e+01]\n",
      " [-1.52218448e+01 -3.20236351e+00]\n",
      " [-1.71358168e+01 -6.57226629e+00]\n",
      " [-1.61139442e+01  1.44648267e+01]\n",
      " [-3.65885085e+01  7.39477114e+00]\n",
      " [ 2.84755807e+01  7.26603937e+00]\n",
      " [-3.71470289e+01  2.85429914e+00]\n",
      " [ 6.61802870e+01  1.25869506e+01]\n",
      " [ 4.33155980e+00 -6.72276168e+00]\n",
      " [ 8.47929673e-01  1.90186457e+01]\n",
      " [-5.70668531e+01 -5.68873342e+00]\n",
      " [-5.50119447e+01  4.79901990e+00]\n",
      " [-3.62858863e+01  6.97193755e+00]\n",
      " [ 6.65833099e+01 -2.32551361e+01]\n",
      " [-3.70761429e+01 -3.51685828e+00]\n",
      " [-1.24972602e+01  9.55010186e-01]\n",
      " [ 1.35569504e+01  2.12514481e+00]\n",
      " [ 8.59466274e+00  1.00225718e+01]\n",
      " [ 1.93919081e+01  1.46773282e+01]\n",
      " [ 8.69788404e-01  1.88514410e+01]\n",
      " [ 3.10381683e+01 -2.45839822e+01]\n",
      " [ 1.17998648e+02 -3.51050394e+01]\n",
      " [ 1.18728478e+02 -3.62621126e+01]\n",
      " [-1.41254096e+01  5.59604482e-01]\n",
      " [-1.99879217e+00 -6.69585092e+00]\n",
      " [-8.88552370e+01 -3.90124886e+00]\n",
      " [-8.81794114e+01 -1.79078967e+00]\n",
      " [-6.47228627e+01 -6.03862809e+00]\n",
      " [-4.94217294e+01  5.93530193e+00]\n",
      " [-5.02617932e+01  6.82094648e+00]\n",
      " [-2.18186423e+01 -1.40978197e+00]\n",
      " [-2.34833044e+01 -1.13333375e+01]\n",
      " [-6.93821453e+01 -1.03289200e+01]\n",
      " [-5.35873436e+01  5.13169281e+00]\n",
      " [ 2.33180037e+01  2.65470842e+00]\n",
      " [-4.91174239e+01 -1.23935063e+01]\n",
      " [-4.71456631e+01 -3.45423059e+00]\n",
      " [ 7.88266445e+00  9.74660118e+00]\n",
      " [-6.24993560e+01 -2.03715738e+01]\n",
      " [-3.65091942e+01 -1.48894930e+00]\n",
      " [ 4.93444039e+01  6.99045229e-02]\n",
      " [-7.43764678e+01 -1.76008596e+01]\n",
      " [-7.31556183e+01 -1.05703476e+01]\n",
      " [-3.68198132e+01 -3.79545922e-01]\n",
      " [-7.37297842e+01 -2.22821905e+01]\n",
      " [-7.38334686e+01 -1.82469595e+01]\n",
      " [-7.43888782e+01 -1.97382844e+01]\n",
      " [-2.75559714e+01 -1.04314465e+01]\n",
      " [-2.73481375e+01 -1.06836648e+01]\n",
      " [-1.77549120e+01 -1.72741640e+00]\n",
      " [-1.74565457e+01 -1.80593970e+00]\n",
      " [ 5.21426364e+01 -9.83731779e+00]\n",
      " [ 1.68585889e+01  5.63118129e-01]]\n"
     ]
    },
    {
     "data": {
      "text/plain": [
       "<matplotlib.collections.PathCollection at 0x2c91201f3d0>"
      ]
     },
     "execution_count": 32,
     "metadata": {},
     "output_type": "execute_result"
    },
    {
     "data": {
      "image/png": "[encoded data removed]",
      "text/plain": [
       "<Figure size 640x480 with 1 Axes>"
      ]
     },
     "metadata": {},
     "output_type": "display_data"
    }
   ],
   "source": [
    "\n",
    "from sklearn.decomposition import PCA\n",
    "pca = PCA(n_components=2)\n",
    "X_reduced = pca.fit_transform(feature_set)\n",
    "print(X_reduced)\n",
    "plt.scatter(X_reduced[:,0], X_reduced[:,1], c=df.clusters)\n"
   ]
  },
  {
   "attachments": {},
   "cell_type": "markdown",
   "metadata": {},
   "source": [
    "**We cannot calculate accuracy and precision in Unsupervised Learning , but these are some metrics used to check the quality of clustering**"
   ]
  },
  {
   "cell_type": "code",
   "execution_count": 33,
   "metadata": {},
   "outputs": [
    {
     "name": "stdout",
     "output_type": "stream",
     "text": [
      "Silhouette Score: 0.4516959231836921\n"
     ]
    }
   ],
   "source": [
    "from sklearn.metrics import silhouette_score\n",
    "import numpy as np\n",
    "\n",
    "silhouette_avg = silhouette_score(feature_set, df.clusters)\n",
    "\n",
    "print(\"Silhouette Score:\", silhouette_avg)\n"
   ]
  },
  {
   "cell_type": "code",
   "execution_count": 34,
   "metadata": {},
   "outputs": [
    {
     "name": "stdout",
     "output_type": "stream",
     "text": [
      "Calinski-Harabasz Index: 216.1575933041665\n"
     ]
    }
   ],
   "source": [
    "from sklearn.metrics import calinski_harabasz_score\n",
    "ch_score = calinski_harabasz_score(feature_set, df.clusters)\n",
    "print(\"Calinski-Harabasz Index:\", ch_score)\n"
   ]
  },
  {
   "cell_type": "code",
   "execution_count": null,
   "metadata": {},
   "outputs": [],
   "source": []
  }
 ],
 "metadata": {
  "kernelspec": {
   "display_name": "Python 3",
   "language": "python",
   "name": "python3"
  },
  "language_info": {
   "codemirror_mode": {
    "name": "ipython",
    "version": 3
   },
   "file_extension": ".py",
   "mimetype": "text/x-python",
   "name": "python",
   "nbconvert_exporter": "python",
   "pygments_lexer": "ipython3",
   "version": "3.10.4"
  },
  "orig_nbformat": 4
 },
 "nbformat": 4,
 "nbformat_minor": 2
}
